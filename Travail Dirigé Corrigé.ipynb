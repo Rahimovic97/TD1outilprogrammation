{
 "cells": [
  {
   "cell_type": "markdown",
   "id": "93b432c7-4156-4f0e-9b97-53ed0656e107",
   "metadata": {},
   "source": [
    "# Semaine 1"
   ]
  },
  {
   "cell_type": "markdown",
   "id": "335df7ec-e99f-4198-8a78-53a0658e2cf7",
   "metadata": {},
   "source": [
    "### Exercice pratique : Premier script “Hello, data!”"
   ]
  },
  {
   "cell_type": "code",
   "execution_count": 93,
   "id": "04e93fb0-e838-4bc9-bbfe-0395c2ff17a0",
   "metadata": {},
   "outputs": [
    {
     "name": "stdout",
     "output_type": "stream",
     "text": [
      "Hello, data!\n",
      "Bienvenue dans le monde de la science des données avec Python!\n"
     ]
    }
   ],
   "source": [
    "# Premier script Python\n",
    "print(\"Hello, data!\")\n",
    "print(\"Bienvenue dans le monde de la science des données avec Python!\")"
   ]
  },
  {
   "cell_type": "markdown",
   "id": "8022c9da-689a-408b-88e1-c2cf6678d050",
   "metadata": {},
   "source": [
    "## Calcul de surface simple"
   ]
  },
  {
   "cell_type": "code",
   "execution_count": 2,
   "id": "fea224c0-1390-4fba-8335-96cbd27e6a56",
   "metadata": {},
   "outputs": [
    {
     "name": "stdin",
     "output_type": "stream",
     "text": [
      "Entrez la longueur du côté du carré :  10\n"
     ]
    },
    {
     "name": "stdout",
     "output_type": "stream",
     "text": [
      "La surface du carré est : 100.0\n"
     ]
    }
   ],
   "source": [
    "cote = float(input(\"Entrez la longueur du côté du carré : \"))\n",
    "surface = cote * cote\n",
    "print(f\"La surface du carré est : {surface}\")"
   ]
  },
  {
   "cell_type": "markdown",
   "id": "6b633411-4d2a-4072-9967-0486a29359a7",
   "metadata": {},
   "source": [
    "## Concatenation de chaînes"
   ]
  },
  {
   "cell_type": "code",
   "execution_count": 7,
   "id": "0bf1bfaf-ff1e-45c3-b542-9659aad6f4ce",
   "metadata": {},
   "outputs": [
    {
     "name": "stdout",
     "output_type": "stream",
     "text": [
      "Bonjour, je m'appelle Alice et j'habite à Chicoutimi.\n"
     ]
    }
   ],
   "source": [
    "prenom = \"Alice\"\n",
    "ville = \"Chicoutimi\"\n",
    "message = \"Bonjour, je m'appelle \" + prenom + \" et j'habite à \" + ville + \".\"\n",
    "print(message)"
   ]
  },
  {
   "cell_type": "markdown",
   "id": "a0bc6790-7580-4d76-9de8-eae236a63bb9",
   "metadata": {},
   "source": [
    "## Petits calculs statistiques"
   ]
  },
  {
   "cell_type": "code",
   "execution_count": 11,
   "id": "114bf4fe-61b1-4a84-992a-99dcc2e3df98",
   "metadata": {},
   "outputs": [
    {
     "name": "stdin",
     "output_type": "stream",
     "text": [
      "Note 1 :  10\n",
      "Note 2 :  12\n",
      "Note 3 :  14\n"
     ]
    },
    {
     "name": "stdout",
     "output_type": "stream",
     "text": [
      "La moyenne des trois notes est : 12.0\n"
     ]
    }
   ],
   "source": [
    "note1 = float(input(\"Note 1 : \"))\n",
    "note2 = float(input(\"Note 2 : \"))\n",
    "note3 = float(input(\"Note 3 : \"))\n",
    "\n",
    "moyenne = (note1 + note2 + note3) / 3\n",
    "print(\"La moyenne des trois notes est :\", moyenne)"
   ]
  },
  {
   "cell_type": "markdown",
   "id": "724535f4-2e8b-4686-8531-5503db378328",
   "metadata": {},
   "source": [
    "## Questionnaire interactif"
   ]
  },
  {
   "cell_type": "code",
   "execution_count": 15,
   "id": "c2d70303-4e37-4ec1-8e51-bb1f39113ea4",
   "metadata": {},
   "outputs": [
    {
     "name": "stdout",
     "output_type": "stream",
     "text": [
      "=== Questionnaire ===\n"
     ]
    },
    {
     "name": "stdin",
     "output_type": "stream",
     "text": [
      "Quel est votre nom ?  James\n",
      "Quel est votre âge ?  25\n",
      "Dans quelle ville habitez-vous ?  Chicoutimi\n",
      "Quel est votre sport préféré ?  Rugby\n"
     ]
    },
    {
     "name": "stdout",
     "output_type": "stream",
     "text": [
      "\n",
      "--- Résultats ---\n",
      "Bonjour James, vous avez 25 ans.\n",
      "Vous habitez à Chicoutimi et vous aimez pratiquer le Rugby.\n",
      "Dans 10 ans, vous aurez 35 ans.\n"
     ]
    }
   ],
   "source": [
    "# Questionnaire interactif\n",
    "\n",
    "print(\"=== Questionnaire ===\")\n",
    "\n",
    "nom = input(\"Quel est votre nom ? \")\n",
    "age = int(input(\"Quel est votre âge ? \"))\n",
    "ville = input(\"Dans quelle ville habitez-vous ? \")\n",
    "sport = input(\"Quel est votre sport préféré ? \")\n",
    "\n",
    "print(\"\\n--- Résultats ---\")\n",
    "print(f\"Bonjour {nom}, vous avez {age} ans.\")\n",
    "print(f\"Vous habitez à {ville} et vous aimez pratiquer le {sport}.\")\n",
    "print(f\"Dans 10 ans, vous aurez {age + 10} ans.\")"
   ]
  },
  {
   "cell_type": "markdown",
   "id": "039d75a3-71a5-4b8b-afa5-5ec60dd7678d",
   "metadata": {},
   "source": [
    "## Premiers calculs orientés données"
   ]
  },
  {
   "cell_type": "code",
   "execution_count": 23,
   "id": "784cdc3d-bf4c-4a75-900a-a0d8f63777a3",
   "metadata": {},
   "outputs": [
    {
     "name": "stdout",
     "output_type": "stream",
     "text": [
      "=== Résultats ===\n",
      "Notes : 15 18 12 17 14\n",
      "Moyenne : 15.2\n",
      "Taux de réussite : 100.0 %\n",
      "Codes étudiants : ET123, ET456, ET789\n"
     ]
    }
   ],
   "source": [
    "# Premiers calculs orientés données\n",
    "\n",
    "# Exemple simplifié de dataset : liste de notes (écrite en dur)\n",
    "note1 = 15\n",
    "note2 = 18\n",
    "note3 = 12\n",
    "note4 = 17\n",
    "note5 = 14\n",
    "\n",
    "# Calcul de la moyenne\n",
    "moyenne = (note1 + note2 + note3 + note4 + note5) / 5\n",
    "\n",
    "# Pourcentage de réussite simple : 5 notes valides sur 5\n",
    "taux_reussite = (5 / 5) * 100\n",
    "\n",
    "# Concatenation de chaînes avec +\n",
    "code1 = \"ET123\"\n",
    "code2 = \"ET456\"\n",
    "code3 = \"ET789\"\n",
    "codes_concat = code1 + \", \" + code2 + \", \" + code3\n",
    "\n",
    "print(\"=== Résultats ===\")\n",
    "print(\"Notes :\", note1, note2, note3, note4, note5)\n",
    "print(\"Moyenne :\", moyenne)\n",
    "print(\"Taux de réussite :\", taux_reussite, \"%\")\n",
    "print(\"Codes étudiants :\", codes_concat)"
   ]
  },
  {
   "cell_type": "markdown",
   "id": "939f3c1a-1d9b-4b4a-a127-faac34a93f60",
   "metadata": {},
   "source": [
    "# Semaine 2"
   ]
  },
  {
   "cell_type": "markdown",
   "id": "b88fe695-f330-4e1e-b71c-d33c8658d4b1",
   "metadata": {},
   "source": [
    "## Exercices 1, 2, 3."
   ]
  },
  {
   "cell_type": "code",
   "execution_count": 62,
   "id": "60955d94-7a58-480e-8b35-e4bce45fc327",
   "metadata": {},
   "outputs": [
    {
     "name": "stdout",
     "output_type": "stream",
     "text": [
      "0b11111111\n",
      "0o377\n",
      "0xff\n"
     ]
    }
   ],
   "source": [
    "# Exercice 1 : Convertir le nombre 255 en binaire, octal et hexadécimal.\n",
    "\n",
    "n = 255\n",
    "print(bin(n))   # à compléter\n",
    "print(oct(n))   # à compléter\n",
    "print(hex(n))   # à compléter"
   ]
  },
  {
   "cell_type": "code",
   "execution_count": 60,
   "id": "2320fb81-29d5-4a13-bd3c-7e161b39bf3e",
   "metadata": {},
   "outputs": [
    {
     "name": "stdout",
     "output_type": "stream",
     "text": [
      "255\n",
      "255\n"
     ]
    }
   ],
   "source": [
    "# Exercice 2 : Reconvertir 0b11111111 et 0xFF en entier décimal.\n",
    "\n",
    "print(int(\"11111111\", 2))  # binaire → ?\n",
    "print(int(\"FF\", 16))       # hexadécimal → ?"
   ]
  },
  {
   "cell_type": "code",
   "execution_count": 58,
   "id": "af9c12ee-a53d-4f38-9668-f4f3077789a3",
   "metadata": {},
   "outputs": [
    {
     "name": "stdout",
     "output_type": "stream",
     "text": [
      "1\n",
      "20\n"
     ]
    }
   ],
   "source": [
    "# Exercice 3 : Reconvertir 0b11111111 et 0xFF en entier décimal.\n",
    "# - Vérifier si un nombre est pair ou impair avec & 1.\n",
    "# - Décaler le nombre 5 deux fois vers la gauche (<<).\n",
    "\n",
    "x = 5\n",
    "print(x & 1)      # vérifier pair/impair\n",
    "print(x << 2)     # décalage gauche"
   ]
  },
  {
   "cell_type": "markdown",
   "id": "4d08019c-69d5-40f8-8caf-f0679a3870ee",
   "metadata": {},
   "source": [
    "## Applications pratiques des booléens"
   ]
  },
  {
   "cell_type": "code",
   "execution_count": 69,
   "id": "8a30b048-4d3a-4eec-971a-7cf28d85b20c",
   "metadata": {},
   "outputs": [
    {
     "name": "stdin",
     "output_type": "stream",
     "text": [
      "Entrez votre âge :  25\n"
     ]
    },
    {
     "name": "stdout",
     "output_type": "stream",
     "text": [
      "Accès autorisé\n"
     ]
    }
   ],
   "source": [
    "# Validation d'une saisie\n",
    "age = input(\"Entrez votre âge : \")\n",
    "\n",
    "if age.isdigit():\n",
    "    age = int(age)\n",
    "    if age >= 18:\n",
    "        print(\"Accès autorisé\")\n",
    "    else:\n",
    "        print(\"Accès refusé : mineur\")\n",
    "else:\n",
    "    print(\"Entrée invalide\")"
   ]
  },
  {
   "cell_type": "markdown",
   "id": "75817f57-c9c2-406b-abf6-16583ebac8e9",
   "metadata": {},
   "source": [
    "## Exercice pratique – Analyseur de texte simple"
   ]
  },
  {
   "cell_type": "code",
   "execution_count": 75,
   "id": "074f3697-f8d0-4782-aa4a-87c08c0fcd3c",
   "metadata": {},
   "outputs": [
    {
     "name": "stdout",
     "output_type": "stream",
     "text": [
      "Nombre de mots : 7\n",
      "Nombre de caractères : 44\n",
      "Nombre de lignes : 2\n"
     ]
    }
   ],
   "source": [
    "texte = \"\"\"Python est puissant.\n",
    "Il est aussi populaire.\"\"\"\n",
    "\n",
    "mots = texte.split()\n",
    "print(\"Nombre de mots :\", len(mots))\n",
    "print(\"Nombre de caractères :\", len(texte))\n",
    "print(\"Nombre de lignes :\", texte.count(\"\\n\") + 1)"
   ]
  },
  {
   "cell_type": "markdown",
   "id": "e938f4c9-db7c-4115-9097-708f87ce6508",
   "metadata": {},
   "source": [
    "## Exercice pratique : Analyse de fréquence des lettres"
   ]
  },
  {
   "cell_type": "code",
   "execution_count": 79,
   "id": "3d27312c-c654-4366-ae7c-ff346e2ca61a",
   "metadata": {},
   "outputs": [
    {
     "name": "stdout",
     "output_type": "stream",
     "text": [
      "s : 6\n",
      "p : 4\n",
      "t : 4\n",
      "i : 4\n",
      "e : 3\n",
      "Fréquence de 'e' : 3\n"
     ]
    }
   ],
   "source": [
    "from collections import Counter\n",
    "\n",
    "texte = \"\"\"Python est puissant.\n",
    "Il est aussi populaire !\"\"\"\n",
    "\n",
    "# 1) Normaliser : tout en minuscules\n",
    "t = texte.lower()\n",
    "\n",
    "# 2) Ne garder que les lettres (ignorer espaces, ponctuation, chiffres)\n",
    "t_lettres = [ch for ch in t if ch.isalpha()]\n",
    "\n",
    "# 3) Compter les occurrences\n",
    "freq = Counter(t_lettres)\n",
    "\n",
    "# 4) Afficher les 5 lettres les plus fréquentes\n",
    "for lettre, nb in freq.most_common(5):\n",
    "    print(f\"{lettre} : {nb}\")\n",
    "\n",
    "# 5) Accès direct à la fréquence d'une lettre donnée\n",
    "print(\"Fréquence de 'e' :\", freq.get('e', 0))"
   ]
  },
  {
   "cell_type": "markdown",
   "id": "75dc3ed6-7e1f-4a49-b548-f8f6edad0ed4",
   "metadata": {},
   "source": [
    "## Détection de palindromes"
   ]
  },
  {
   "cell_type": "code",
   "execution_count": 83,
   "id": "d396f1cb-a9be-4ff9-8943-24e27b142e4a",
   "metadata": {},
   "outputs": [
    {
     "name": "stdout",
     "output_type": "stream",
     "text": [
      "'Radar' -> True\n",
      "'Élu par cette crapule' -> False\n",
      "'Engage le jeu que je le gagne' -> True\n",
      "'Python' -> False\n"
     ]
    }
   ],
   "source": [
    "def est_palindrome(texte: str) -> bool:\n",
    "    \"\"\"Retourne True si 'texte' est un palindrome (en ignorant espaces, accents simples et casse).\"\"\"\n",
    "    t = texte.lower()\n",
    "    # Ne garder que lettres/chiffres\n",
    "    t = \"\".join(ch for ch in t if ch.isalnum())\n",
    "    return t == t[::-1]\n",
    "\n",
    "tests = [\n",
    "    \"Radar\", \n",
    "    \"Élu par cette crapule\",   # attention accents (é/É comptés différemment sans normalisation Unicode)\n",
    "    \"Engage le jeu que je le gagne\", \n",
    "    \"Python\"\n",
    "]\n",
    "\n",
    "for s in tests:\n",
    "    print(f\"{s!r} -> {est_palindrome(s)}\")"
   ]
  },
  {
   "cell_type": "markdown",
   "id": "c4b3f446-9a57-4de6-8ee2-cecfb4491cbb",
   "metadata": {},
   "source": [
    "## Statistiques de lisibilité basiques"
   ]
  },
  {
   "cell_type": "code",
   "execution_count": 87,
   "id": "ceac3a3b-624b-4b22-87d8-2533df5221d3",
   "metadata": {},
   "outputs": [
    {
     "name": "stdout",
     "output_type": "stream",
     "text": [
      "Mots/phrase : 3.5\n",
      "Longueur moyenne mot : 5.142857142857143\n"
     ]
    }
   ],
   "source": [
    "import re\n",
    "txt = \"Python est puissant. Il est aussi populaire !\"\n",
    "phrases = re.split(r\"[.!?]+\", txt.strip())\n",
    "mots = re.findall(r\"\\w+\", txt.lower())\n",
    "print(\"Mots/phrase :\", len(mots) / max(1, len([p for p in phrases if p])))\n",
    "print(\"Longueur moyenne mot :\", sum(map(len, mots))/len(mots))"
   ]
  }
 ],
 "metadata": {
  "kernelspec": {
   "display_name": "Python [conda env:base] *",
   "language": "python",
   "name": "conda-base-py"
  },
  "language_info": {
   "codemirror_mode": {
    "name": "ipython",
    "version": 3
   },
   "file_extension": ".py",
   "mimetype": "text/x-python",
   "name": "python",
   "nbconvert_exporter": "python",
   "pygments_lexer": "ipython3",
   "version": "3.11.9"
  }
 },
 "nbformat": 4,
 "nbformat_minor": 5
}
